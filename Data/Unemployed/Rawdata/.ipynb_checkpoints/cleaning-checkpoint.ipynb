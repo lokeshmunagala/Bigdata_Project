{
 "cells": [
  {
   "cell_type": "code",
   "execution_count": 7,
   "metadata": {},
   "outputs": [],
   "source": [
    "from csv import reader, writer"
   ]
  },
  {
   "cell_type": "code",
   "execution_count": 6,
   "metadata": {},
   "outputs": [
    {
     "name": "stdout",
     "output_type": "stream",
     "text": [
      "obs_value\n",
      "7188.921\n",
      "\n",
      "405.636\n",
      "4837.988\n",
      "1941.547\n",
      "2029.439\n",
      "77.046\n",
      "1710.243\n",
      "242.151\n",
      "3968.628\n",
      "235.405\n",
      "2454.137\n",
      "1279.086\n",
      "847.806\n",
      "\n",
      "65.963\n",
      "491.165\n",
      "286.928\n",
      "343.049\n",
      "27.222\n",
      "182.444\n",
      "133.382\n",
      "4078.73\n",
      "\n",
      "266.601\n",
      "2805.194\n",
      "1006.936\n",
      "1140.348\n",
      "52.74\n",
      "957.498\n",
      "130.109\n",
      "2215.799\n",
      "149.59\n",
      "1426.651\n",
      "639.557\n",
      "521.978\n",
      "\n",
      "44.351\n",
      "321.052\n",
      "156.575\n",
      "200.606\n",
      "19.919\n",
      "99.994\n",
      "80.694\n",
      "3110.191\n",
      "\n",
      "139.036\n",
      "2032.795\n",
      "934.611\n"
     ]
    }
   ],
   "source": [
    "out = writer(open(\"output.csv\", \"w\"), delimiter=\" \")\n",
    "with open('3.csv') as csvfile:\n",
    "    readCSV = csv.reader(csvfile)\n",
    "    for row in readCSV:\n",
    "        if(row[0]=='ref_area')continue;\n",
    "        out.writerow(row)\n",
    "        "
   ]
  },
  {
   "cell_type": "code",
   "execution_count": null,
   "metadata": {},
   "outputs": [],
   "source": [
    "data = list(reader(open(\"3.csv\", \"r\")))\n",
    "\n",
    "out = writer(open(\"output.csv\", \"w\"), delimiter=\" \")\n",
    "\n",
    "for row in reader(open(\"index.csv\", \"r\"), delimiter=\" \"):\n",
    "    out.writerow(row + data[int(row[3])])"
   ]
  }
 ],
 "metadata": {
  "kernelspec": {
   "display_name": "Python 3",
   "language": "python",
   "name": "python3"
  },
  "language_info": {
   "codemirror_mode": {
    "name": "ipython",
    "version": 3
   },
   "file_extension": ".py",
   "mimetype": "text/x-python",
   "name": "python",
   "nbconvert_exporter": "python",
   "pygments_lexer": "ipython3",
   "version": "3.7.3"
  }
 },
 "nbformat": 4,
 "nbformat_minor": 2
}
