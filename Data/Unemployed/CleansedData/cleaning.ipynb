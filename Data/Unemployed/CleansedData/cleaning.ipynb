{
 "cells": [
  {
   "cell_type": "code",
   "execution_count": 7,
   "metadata": {},
   "outputs": [],
   "source": [
    "from csv import reader, writer"
   ]
  },
  {
   "cell_type": "code",
   "execution_count": 27,
   "metadata": {},
   "outputs": [],
   "source": [
    "out = writer(open(\"output.csv\", \"w\"), delimiter=\" \")\n",
    "with open('3.csv') as csvfile:\n",
    "    readCSV = csv.reader(csvfile)\n",
    "    x = ['Country','Sex','Age','Education','Year','Month','Value in thousands']\n",
    "    out.writerow(x)\n",
    "    for row in readCSV:\n",
    "        if('ref_area' in row[0]):continue\n",
    "        r =[]\n",
    "        r.append(row[0])\n",
    "        r.append(row[3][-1])\n",
    "        r.append(row[4])\n",
    "#         if 'TOTAL' in row[4]:r.append('Total')\n",
    "#         if '15-24' in row[4]:r.append('15-24')\n",
    "#         if '25-54' in row[4]:r.append('25-54')\n",
    "#         if '55-64' in row[4]:r.append('55-64')\n",
    "#         if 'GE65' in row[4]:r.append('GE65')\n",
    "        \n",
    "        if 'TOTAL' in row[5]:r.append('Total')\n",
    "        if 'LTB' in row[5]:r.append('LTB')\n",
    "        if 'BAS' in row[5]:r.append('BAS')\n",
    "        if 'INT' in row[5]:r.append('INT')\n",
    "        if 'ADV' in row[5]:r.append('ADV')\n",
    "            \n",
    "        r.append(row[6][0:4])\n",
    "        r.append(row[6][4:7])\n",
    "        if(row[7]):r.append(row[7])\n",
    "        else:r.append(0)\n",
    "        \n",
    "#         r = (row[i] for i in [0,3,4,5,6,7])\n",
    "        out.writerow(r)\n",
    "        "
   ]
  },
  {
   "cell_type": "code",
   "execution_count": null,
   "metadata": {},
   "outputs": [],
   "source": [
    "# data = list(reader(open(\"3.csv\", \"r\")))\n",
    "\n",
    "# out = writer(open(\"output.csv\", \"w\"), delimiter=\" \")\n",
    "\n",
    "# for row in reader(open(\"index.csv\", \"r\"), delimiter=\" \"):\n",
    "#     out.writerow(row + data[int(row[3])])"
   ]
  }
 ],
 "metadata": {
  "kernelspec": {
   "display_name": "Python 3",
   "language": "python",
   "name": "python3"
  },
  "language_info": {
   "codemirror_mode": {
    "name": "ipython",
    "version": 3
   },
   "file_extension": ".py",
   "mimetype": "text/x-python",
   "name": "python",
   "nbconvert_exporter": "python",
   "pygments_lexer": "ipython3",
   "version": "3.7.3"
  }
 },
 "nbformat": 4,
 "nbformat_minor": 2
}
